{
 "cells": [
  {
   "cell_type": "code",
   "execution_count": null,
   "metadata": {
    "slideshow": {
     "slide_type": "skip"
    }
   },
   "outputs": [],
   "source": [
    "!pip install requests\n",
    "!pip install matplotlib\n",
    "from typing import List"
   ]
  },
  {
   "cell_type": "markdown",
   "metadata": {
    "slideshow": {
     "slide_type": "slide"
    }
   },
   "source": [
    "# Language detection in 7 minutes\n",
    "## Paweł Kubiak\n"
   ]
  },
  {
   "cell_type": "markdown",
   "metadata": {
    "slideshow": {
     "slide_type": "subslide"
    }
   },
   "source": [
    "## Language Detection. Why?\n",
    "Before we start any analysis of the text we need to know its language. We need to know it to decide which dictionary to download, which language model to load or which algorithm to use. Language is **must-have**."
   ]
  },
  {
   "cell_type": "markdown",
   "metadata": {
    "slideshow": {
     "slide_type": "slide"
    }
   },
   "source": [
    "## Corpus collecting\n",
    "In order to train our model, we will need a lot of text in different languages. For example, we can use:\n",
    "\n",
    "- [European Parliament Proceedings Parallel Corpus](https://www.statmt.org/europarl/) (21 langs)\n",
    "- [Universal Declaration of Human Rights]() (524 langs)\n",
    "- [Books / documents from WikiBooks project](https://en.wikibooks.org/wiki/Main_Page) (76 langs)\n",
    "- [Wikipedia articles](https://en.wikipedia.org/wiki/Special:Statistics) (314 langs)"
   ]
  },
  {
   "cell_type": "markdown",
   "metadata": {
    "slideshow": {
     "slide_type": "subslide"
    }
   },
   "source": [
    "## Collect Wikipedia articles\n",
    "We use MediaWiki API <sup>[1]</sup> to extract article plaintext:"
   ]
  },
  {
   "cell_type": "code",
   "execution_count": 2,
   "metadata": {
    "slideshow": {
     "slide_type": "-"
    }
   },
   "outputs": [],
   "source": [
    "import requests\n",
    "\n",
    "def get_wikipedia(lang: str, title: str) -> str:\n",
    "    \"\"\"Extract wikipedia article as plaintext using API.\"\"\"\n",
    "    req = requests.get(\n",
    "        f\"https://{lang}.wikipedia.org/w/api.php\",\n",
    "        params=dict(\n",
    "            action=\"query\", format=\"json\", prop=\"extracts\",\n",
    "            titles=title, explaintext=True, redirects=True\n",
    "    )).json()\n",
    "    \n",
    "    return list(req['query']['pages'].values())[0]['extract']"
   ]
  },
  {
   "cell_type": "markdown",
   "metadata": {
    "slideshow": {
     "slide_type": "subslide"
    }
   },
   "source": [
    "## Sample Wikipedia article"
   ]
  },
  {
   "cell_type": "code",
   "execution_count": 3,
   "metadata": {
    "scrolled": false
   },
   "outputs": [
    {
     "name": "stdout",
     "output_type": "stream",
     "text": [
      "Kapibara (Hydrochoerus) – rodzaj ssaka z podrodziny kapibar (Hydrochoerinae) w rodzinie kawiowatych (Caviidae).\n",
      "\n",
      "\n",
      "== Zasięg występowania ==\n",
      "Rodzaj obejmuje gatunki występujące w Ameryce Środkowej (Panama) i Południowej (Kolumbia, Wenezuela, Gujana, Brazylia, Ekwador, Peru, Boliwia, Paragwaj, Argentyna i Urugwaj).\n",
      "\n",
      "\n",
      "== Morfologia ==\n",
      "Długość ciała (bez ogona) 1025–1340 mm, długość ogona 10–20 mm, dł\n"
     ]
    }
   ],
   "source": [
    "kapibara = get_wikipedia('pl', 'kapibara')\n",
    "print(kapibara[:400])"
   ]
  },
  {
   "cell_type": "markdown",
   "metadata": {
    "slideshow": {
     "slide_type": "subslide"
    }
   },
   "source": [
    "## Text cleaning"
   ]
  },
  {
   "cell_type": "code",
   "execution_count": 4,
   "metadata": {},
   "outputs": [
    {
     "name": "stdout",
     "output_type": "stream",
     "text": [
      "kapibara hydrochoerus rodzaj ssaka z podrodziny kapibar hydrochoerinae w rodzinie kawiowatych caviidae zasięg występowania rodzaj obejmuje gatunki występujące w ameryce środkowej panama i południowej kolumbia wenezuela gujana brazylia ekwador peru boliwia paragwaj argenty\n"
     ]
    }
   ],
   "source": [
    "import re\n",
    "\n",
    "def clean(text):\n",
    "    text = re.sub('[_\\W\\d]', ' ', text)  # non-alphanumeric and digits\n",
    "    text = re.sub('\\s+', ' ', text.strip())  # normalize whitespaces\n",
    "    text = text.lower()  # convert to lowercase\n",
    "\n",
    "    return text\n",
    "\n",
    "czysta_kapibara = clean(kapibara[:300])\n",
    "print(czysta_kapibara)"
   ]
  },
  {
   "cell_type": "markdown",
   "metadata": {
    "slideshow": {
     "slide_type": "slide"
    }
   },
   "source": [
    "## What are N-grams? ##\n",
    "\n",
    "> An N-gram is a contiguous sequence of n items from a given sample of the text. The items can be phonemes, syllables, letters or words according to the application.<br/><small>Wikipedia, The Free Encyclopedia<sup>[2]</sup></small>"
   ]
  },
  {
   "cell_type": "markdown",
   "metadata": {
    "slideshow": {
     "slide_type": "subslide"
    }
   },
   "source": [
    "## What are N-grams? ##\n",
    "\n",
    "- (*unigram*) &LongRightArrow; p, y, c, o, n \n",
    "- (*bigram*) &LongRightArrow; py, yc, co, on \n",
    "- (*trigram*) &LongRightArrow; pyc, yco, con "
   ]
  },
  {
   "cell_type": "markdown",
   "metadata": {
    "slideshow": {
     "slide_type": "subslide"
    }
   },
   "source": [
    "### N-grams in Python"
   ]
  },
  {
   "cell_type": "code",
   "execution_count": 5,
   "metadata": {},
   "outputs": [
    {
     "data": {
      "text/plain": [
       "['pyc', 'yco', 'con', 'on2', 'n20', '202', '020']"
      ]
     },
     "execution_count": 5,
     "metadata": {},
     "output_type": "execute_result"
    }
   ],
   "source": [
    "def make_ngrams(text: str, n: int) -> List[str]:\n",
    "    \"\"\"Generate all n-grams of length `n` from `text`.\"\"\"\n",
    "    for i in range(n, len(text)+1):\n",
    "        yield text[i-n:i]\n",
    "\n",
    "list(make_ngrams(\"pycon2020\", 3))"
   ]
  },
  {
   "cell_type": "markdown",
   "metadata": {
    "slideshow": {
     "slide_type": "subslide"
    }
   },
   "source": [
    "## Top N-grams\n",
    "\n",
    "> The top 300 or so N-grams are almost\n",
    "always highly correlated to the language. ... Starting around rank 300 or so, an N-gram frequency profile begins to show N-grams that are more specific to the subject of the document.<br/>\n",
    "<small>N-Gram-Based Text Categorization<sup>[3]</sup></small>\n"
   ]
  },
  {
   "cell_type": "markdown",
   "metadata": {
    "slideshow": {
     "slide_type": "subslide"
    }
   },
   "source": [
    "## N-grams ranking in Python"
   ]
  },
  {
   "cell_type": "code",
   "execution_count": 6,
   "metadata": {},
   "outputs": [],
   "source": [
    "from collections import Counter\n",
    "\n",
    "def ranking(text: str, topn: int) -> List[str]:\n",
    "    \"\"\"\n",
    "    Collect N-grams of given lengths from `text`.\n",
    "    Return `topn` most common N-grams.\n",
    "    \"\"\"\n",
    "    counts = Counter()\n",
    "    words = text.split()\n",
    "    for length in [1, 2, 3]:\n",
    "        for word in words:\n",
    "            counts.update(make_ngrams(f\"_{word}_\", length))\n",
    "        \n",
    "    return [key for key, _ in counts.most_common(topn)]"
   ]
  },
  {
   "cell_type": "markdown",
   "metadata": {
    "slideshow": {
     "slide_type": "subslide"
    }
   },
   "source": [
    "## Sample N-grams rankings for PL"
   ]
  },
  {
   "cell_type": "code",
   "execution_count": 7,
   "metadata": {},
   "outputs": [
    {
     "name": "stdout",
     "output_type": "stream",
     "text": [
      "_, a, e, i, o, n, r, s, t, w, z, y, c, u, m, k, p, d, l, j, e_, a_, ie, ni, st, g, _p, in, _s, na, i_, ow, _w, li, er, _n, b, h, y_, te, ch, _z, o_, ż, ro, ra, _l, ó, ą, po, an, h_, _o, _i, _d, wa, ch_, ko, _t, nie, w_, _na, m_, nu, _li, ie_, ł, f, ny, ac, _m, pr, _k, lin, inu, ę, wi, za, cz, je, ne, yc, rz, ze, _j, _po, ys, em, x, z_, do, _g, u_, yst, ia, ych, mi, na_, _pr, ów, al, ej, t_, zy, or, od, ą_, ś, _u, _a, on, owa, op, to, ta, ic, en, x_, ar, os, cj, _i_, ux, _r, sz, ki, wan, _je, nux, wy, le, ty, om, _ko, _w_, ym, es, gr, aj, mo, _za, sy, ją, ani, go, ste, eg, j_, tem, wn, ak, si, ów_, ter, ć, ks, dz, ć_, _z_, la, ux_, _sy, sys, rze, pro, ne_, tr, so, we, ię, ka, rac, _do, em_, ob, ed, wo, ró, ę_, uż, est, go_, ej_, dy, sa, ma, ego, sta, fi, me, st_, am, ec, ry, is, nyc, ym_, sk, _op, era\n"
     ]
    }
   ],
   "source": [
    "text = clean(get_wikipedia('pl', 'Linux'))\n",
    "\n",
    "rank = ranking(text, 200)\n",
    "print(', '.join(rank))"
   ]
  },
  {
   "cell_type": "markdown",
   "metadata": {
    "slideshow": {
     "slide_type": "subslide"
    }
   },
   "source": [
    "## Hypothesis\n",
    "\n",
    "> Texts in the same language generate similar N-gram rankings, while for different languages the rankings will differ strongly."
   ]
  },
  {
   "cell_type": "code",
   "execution_count": 8,
   "metadata": {
    "slideshow": {
     "slide_type": "skip"
    }
   },
   "outputs": [],
   "source": [
    "import matplotlib.pyplot as plt\n",
    "\n",
    "def rank_wiki(name, n=200):\n",
    "    t = clean(get_wikipedia(*name.split(':', 1)))\n",
    "    return ranking(t,n)\n",
    "    \n",
    "def vizualize_rankings(ax, n1, n2, n=100):\n",
    "    r1 = rank_wiki(n1, n)\n",
    "    r2 = rank_wiki(n2, n)\n",
    "    m = [\n",
    "        [i == j if (j in r1 and i in r2) else 0.1 for j in r2]\n",
    "        for i in r1\n",
    "    ]\n",
    "    \n",
    "    ax.imshow(m)\n",
    "    ax.set_xticks([])\n",
    "    ax.set_xlabel(n1, fontsize=18)\n",
    "    ax.set_yticks([])\n",
    "    ax.set_ylabel(n2, fontsize=18)"
   ]
  },
  {
   "cell_type": "markdown",
   "metadata": {
    "slideshow": {
     "slide_type": "subslide"
    }
   },
   "source": [
    "## Rankings correlation"
   ]
  },
  {
   "cell_type": "code",
   "execution_count": 9,
   "metadata": {},
   "outputs": [
    {
     "data": {
      "image/png": "[encoded data removed]",
      "text/plain": [
       "<Figure size 1152x576 with 2 Axes>"
      ]
     },
     "metadata": {},
     "output_type": "display_data"
    }
   ],
   "source": [
    "_, ax =plt.subplots(1, 2, figsize=(16,8))\n",
    "vizualize_rankings(ax[0], 'pl:Linux', 'pl:Pan Tadeusz')\n",
    "vizualize_rankings(ax[1], 'pl:Linux', 'en:Linux')"
   ]
  },
  {
   "cell_type": "markdown",
   "metadata": {
    "slideshow": {
     "slide_type": "slide"
    }
   },
   "source": [
    "## Rankings Distance Measure\n",
    "> ![N-gram ranking distance](https://www.researchgate.net/profile/William_Cavnar/publication/2375544/figure/fig2/AS:669559593898000@1536646855685/Calculating-The-Out-Of-Place-Measure-Between-Two-Profiles.png)\n",
    "<small>N-Gram-Based Text Categorization<sup>[3]</sup></small>\n"
   ]
  },
  {
   "cell_type": "markdown",
   "metadata": {
    "slideshow": {
     "slide_type": "subslide"
    }
   },
   "source": [
    "## Rankings Distance Measure in Python"
   ]
  },
  {
   "cell_type": "code",
   "execution_count": 10,
   "metadata": {},
   "outputs": [],
   "source": [
    "def distance(rank1: List[str], rank2: List[str]) -> int:\n",
    "    \"\"\"Compute distane between two N-grams rankings.\"\"\"\n",
    "    score = 0\n",
    "    for i, key in enumerate(rank1):\n",
    "        if key in rank2:\n",
    "            score += abs(rank2.index(key) - i)\n",
    "        else:\n",
    "            score += len(rank2) # MAX penalty\n",
    "    return score"
   ]
  },
  {
   "cell_type": "code",
   "execution_count": 11,
   "metadata": {},
   "outputs": [
    {
     "data": {
      "text/plain": [
       "(14956, 23623)"
      ]
     },
     "execution_count": 11,
     "metadata": {},
     "output_type": "execute_result"
    }
   ],
   "source": [
    "(\n",
    "    distance(rank_wiki('pl:Linux'), rank_wiki('pl:Pan Tadeusz')),\n",
    "    distance(rank_wiki('pl:Linux'), rank_wiki('en:Linux'))\n",
    ")"
   ]
  },
  {
   "cell_type": "markdown",
   "metadata": {
    "slideshow": {
     "slide_type": "slide"
    }
   },
   "source": [
    "## N-grams Language Detector"
   ]
  },
  {
   "cell_type": "code",
   "execution_count": 12,
   "metadata": {},
   "outputs": [],
   "source": [
    "class LinuxLanguageDetector:\n",
    "    \"\"\"Detect text language based on N-grams model.\"\"\"\n",
    "    def __init__(self, langs: List[str], n: int = 200):\n",
    "        self.n = n\n",
    "        self.ranks = {\n",
    "            lang: rank_wiki(f\"{lang}:Linux\", n)\n",
    "            for lang in langs\n",
    "        }\n",
    "        \n",
    "    def detect(self, text: str) -> str:\n",
    "        rank = ranking(clean(text), self.n)\n",
    "        return min(\n",
    "            self.ranks,\n",
    "            key=lambda lang: distance(rank, self.ranks[lang])\n",
    "        )"
   ]
  },
  {
   "cell_type": "markdown",
   "metadata": {
    "slideshow": {
     "slide_type": "subslide"
    }
   },
   "source": [
    "## Testing"
   ]
  },
  {
   "cell_type": "code",
   "execution_count": 13,
   "metadata": {},
   "outputs": [],
   "source": [
    "langdet = LinuxLanguageDetector(['pl', 'en', 'de', 'fr', 'it'])"
   ]
  },
  {
   "cell_type": "code",
   "execution_count": 14,
   "metadata": {},
   "outputs": [
    {
     "data": {
      "text/plain": [
       "'pl'"
      ]
     },
     "execution_count": 14,
     "metadata": {},
     "output_type": "execute_result"
    }
   ],
   "source": [
    "langdet.detect(\"PyCon PL 2020 to trzynasta edycja \"\n",
    "    \"ogólnopolskiej konferencji z grupy PyCon.\")"
   ]
  },
  {
   "cell_type": "code",
   "execution_count": 15,
   "metadata": {},
   "outputs": [
    {
     "data": {
      "text/plain": [
       "'it'"
      ]
     },
     "execution_count": 15,
     "metadata": {},
     "output_type": "execute_result"
    }
   ],
   "source": [
    "langdet.detect(\"Python è un linguaggio di programmazione di più \"\n",
    "    \"alto livello rispetto alla maggior parte degli altri linguaggi.\")"
   ]
  },
  {
   "cell_type": "code",
   "execution_count": 16,
   "metadata": {},
   "outputs": [
    {
     "data": {
      "text/plain": [
       "'en'"
      ]
     },
     "execution_count": 16,
     "metadata": {},
     "output_type": "execute_result"
    }
   ],
   "source": [
    "langdet.detect(\"Capybaras are highly social, living in groups of up \"\n",
    "    \"to 100 and communicating through a variety of vocalizations.\")"
   ]
  },
  {
   "cell_type": "markdown",
   "metadata": {
    "slideshow": {
     "slide_type": "subslide"
    }
   },
   "source": [
    "## Evaluation on Sample Articles"
   ]
  },
  {
   "cell_type": "code",
   "execution_count": 17,
   "metadata": {
    "slideshow": {
     "slide_type": "skip"
    }
   },
   "outputs": [
    {
     "data": {
      "text/plain": [
       "['Ołeksij Bahniuk',\n",
       " 'Iisaku',\n",
       " 'Dayot Upamecano',\n",
       " 'Babin Średni',\n",
       " 'Papierówka (jabłoń)',\n",
       " 'Emil Michałowski',\n",
       " 'Eschenburg',\n",
       " 'Ja, Najwyższy',\n",
       " 'Antoni Słociński',\n",
       " 'Douglas Bay']"
      ]
     },
     "execution_count": 17,
     "metadata": {},
     "output_type": "execute_result"
    }
   ],
   "source": [
    "def wiki_randomize(lang: str, limit: int) -> List[str]:\n",
    "    \"\"\"Return random wikipedia articles' titles.\"\"\"\n",
    "    data = requests.get(\n",
    "        f\"https://{lang}.wikipedia.org/w/api.php\",\n",
    "        params=dict(action=\"query\", format=\"json\", generator=\"random\",\n",
    "                    grnnamespace=0, grnlimit=limit, prop=\"info\"\n",
    "    )).json()\n",
    "    return [page['title'] for page in data['query']['pages'].values()]\n",
    "\n",
    "wiki_randomize('pl', 10)"
   ]
  },
  {
   "cell_type": "code",
   "execution_count": 18,
   "metadata": {
    "slideshow": {
     "slide_type": "skip"
    }
   },
   "outputs": [],
   "source": [
    "def evaluate(model, n=10, cutoff=5):\n",
    "    \"\"\"Evaluate model on random wikipedia articles.\"\"\"\n",
    "    langs = list(model.ranks.keys())\n",
    "    counts, counts_cut = Counter(), Counter()\n",
    "    for lang in langs:\n",
    "        for title in wiki_randomize(lang, n):\n",
    "            text = get_wikipedia(lang, title)\n",
    "            counts[(lang, model.detect(text))] += 1\n",
    "            \n",
    "            text = ' '.join(clean(text).split()[:cutoff])\n",
    "            counts_cut[(lang, model.detect(text))] += 1\n",
    "\n",
    "    return langs, counts, counts_cut\n",
    "\n",
    "\n",
    "def show_matrix(ax, langs, data):\n",
    "    data = [\n",
    "        [data[(expected, detected)] for detected in langs]\n",
    "        for expected in langs\n",
    "    ]\n",
    "    ax.imshow(data)\n",
    "    ax.set_xticks(range(len(langs)))\n",
    "    ax.set_xticklabels(langs)\n",
    "    ax.set_xlabel(\"detected\", fontsize=18)\n",
    "    ax.set_yticks(range(len(langs)))\n",
    "    ax.set_yticklabels(langs)\n",
    "    ax.set_ylabel(\"expected\", fontsize=18)\n",
    "    for i in range(len(langs)):\n",
    "        for j in range(len(langs)):\n",
    "            val = data[i][j]\n",
    "            text = ax.text(j, i, val, ha=\"center\", va=\"center\", color=\"k\" if val else \"w\", fontsize=24)\n",
    "    \n",
    "\n",
    "def show_evaluation(model, n):\n",
    "    _, ax = plt.subplots(1, 2, figsize=(16, 8))\n",
    "    langs, full_text, with_cutoff = evaluate(model, n)\n",
    "\n",
    "    N = sum(full_text.values())\n",
    "    acc = 100 * sum(full_text[i,i] for i in langs) / N\n",
    "    ax[0].set_title(\"Full Text (acc: %.2f%%, n: %d)\" % (acc,N), fontsize=22)\n",
    "    show_matrix(ax[0], langs, full_text)\n",
    "\n",
    "    acc = 100 * sum(with_cutoff[i,i] for i in langs) / N\n",
    "    ax[1].set_title(\"First 5 words (acc: %.2f%%, n: %d)\" % (acc, N), fontsize=22)\n",
    "    show_matrix(ax[1], langs, with_cutoff)"
   ]
  },
  {
   "cell_type": "code",
   "execution_count": 23,
   "metadata": {},
   "outputs": [
    {
     "data": {
      "image/png": "[encoded data removed]",
      "text/plain": [
       "<Figure size 1152x576 with 2 Axes>"
      ]
     },
     "metadata": {
      "needs_background": "light"
     },
     "output_type": "display_data"
    }
   ],
   "source": [
    "show_evaluation(langdet, n=10)"
   ]
  },
  {
   "cell_type": "markdown",
   "metadata": {
    "slideshow": {
     "slide_type": "slide"
    }
   },
   "source": [
    "## Pros and Cons\n",
    "\n",
    "<ul style=\"list-style-type: none; padding-left:1em\">\n",
    "    <li>&check; Very simple idea and implementation</li>\n",
    "    <li>&check; Low memory requirement of the trained model (only n-gram rankings)</li>\n",
    "    <li>&check; Fast trainable (no gradients optimization)</li>\n",
    "    <li>&check; High tolerance for errors</li>\n",
    "    <li>&cross; Poorly handles short and mixed texts</li>\n",
    "</ul>"
   ]
  },
  {
   "cell_type": "markdown",
   "metadata": {
    "slideshow": {
     "slide_type": "slide"
    }
   },
   "source": [
    "## Don't try this at work - Use nltk\n",
    "The same n-gram based method has been implemented in nltk package."
   ]
  },
  {
   "cell_type": "code",
   "execution_count": null,
   "metadata": {
    "scrolled": true
   },
   "outputs": [],
   "source": [
    "!pip install nltk"
   ]
  },
  {
   "cell_type": "markdown",
   "metadata": {},
   "source": [
    "Before the first run we must download additional language resources."
   ]
  },
  {
   "cell_type": "code",
   "execution_count": null,
   "metadata": {},
   "outputs": [],
   "source": [
    "import nltk\n",
    "nltk.download('crubadan');"
   ]
  },
  {
   "cell_type": "markdown",
   "metadata": {
    "slideshow": {
     "slide_type": "subslide"
    }
   },
   "source": [
    "## Don't try this at work - Use nltk"
   ]
  },
  {
   "cell_type": "code",
   "execution_count": 22,
   "metadata": {},
   "outputs": [
    {
     "data": {
      "text/plain": [
       "('pol', 'eng')"
      ]
     },
     "execution_count": 22,
     "metadata": {},
     "output_type": "execute_result"
    }
   ],
   "source": [
    "from nltk.classify.textcat import TextCat\n",
    "textcat = TextCat()\n",
    "\n",
    "pl = textcat.guess_language(\"PyCon PL 2020 to trzynasta edycja \"\n",
    "    \"ogólnopolskiej konferencji z grupy PyCon.\")\n",
    "\n",
    "en = textcat.guess_language(\"Capybaras are highly social, \"\n",
    "    \"living in groups of up to 100 and communicating through \"\n",
    "    \"a variety of vocalizations.\")\n",
    "\n",
    "(pl, en)"
   ]
  },
  {
   "cell_type": "markdown",
   "metadata": {
    "slideshow": {
     "slide_type": "slide"
    }
   },
   "source": [
    "## References\n",
    "\n",
    "1. [MediaWiki API Help.](https://www.mediawiki.org/w/api.php?action=help&modules=query%2Bextracts)\n",
    "2. [Wikipedia contributors, \"N-gram,\" Wikipedia, The Free Encyclopedia](https://en.wikipedia.org/wiki/N-gram)\n",
    "3. [Cavnar, W. B. and Trenkle, J. M. 1994. N-gram-based text categorization](https://www.researchgate.net/publication/2375544_N-Gram-Based_Text_Categorization)"
   ]
  },
  {
   "cell_type": "markdown",
   "metadata": {
    "slideshow": {
     "slide_type": "slide"
    }
   },
   "source": [
    "## Thank you for your attention :)\n",
    "\n",
    "https://github.com/pkubiak/pl.pycon.2020"
   ]
  }
 ],
 "metadata": {
  "celltoolbar": "Slideshow",
  "kernelspec": {
   "display_name": "Python 3",
   "language": "python",
   "name": "python3"
  },
  "language_info": {
   "codemirror_mode": {
    "name": "ipython",
    "version": 3
   },
   "file_extension": ".py",
   "mimetype": "text/x-python",
   "name": "python",
   "nbconvert_exporter": "python",
   "pygments_lexer": "ipython3",
   "version": "3.8.6"
  },
  "rise": {
   "backimage": "https://pl.pycon.org/2020/static/PyConPL20.png",
   "footer": "<span class=\"github\"><a href=\"https://github.com/pkubiak/pl.pycon.2020\">pkubiak / pl.pycon.2020</a></span>",
   "header": "Language detection in 7 minutes"
  }
 },
 "nbformat": 4,
 "nbformat_minor": 2
}
